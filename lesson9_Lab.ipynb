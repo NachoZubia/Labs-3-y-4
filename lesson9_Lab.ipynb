{
 "cells": [
  {
   "cell_type": "markdown",
   "metadata": {},
   "source": [
    "# Lesson 1.9: Improving the model\n",
    "\n",
    "### Lesson Duration: 3 hours\n",
    "\n",
    "> Purpose: The purpose of this DIY (Do It Yourself) lesson is to go through the complete process of building the model and using different techniques to improve the accuracy of the model. As George Box famously said, \"All models are wrong but some are useful\".\n",
    "\n",
    "### Learning Objectives\n",
    "\n",
    "After this lesson, students will be able to:\n",
    "\n",
    "- Apply a linear regression model from the beginning\n",
    "- Improve the accuracy of the model\n",
    "- Collaborate using Git and GitHub\n",
    "- Deliver impactful presentations\n",
    "\n",
    "---\n",
    "\n",
    "### Lesson 1 key concepts\n",
    "\n",
    "> :clock10: 20 mins\n",
    "\n",
    "- Revisiting the model\n",
    "- List down the followed steps\n",
    "- Spot the areas in the model where changes could be made\n",
    "- Apply the changes\n",
    "- Fit the model and check the accuracy\n",
    "- Compare the changes in the different models\n"
   ]
  },
  {
   "cell_type": "markdown",
   "metadata": {},
   "source": [
    "# ~~Lab | Customer Analysis Round 7~~\n",
    "\n",
    "For this lab, we still keep using the `marketing_customer_analysis.csv` file that you can find in the `files_for_lab_round7` folder.\n",
    "\n",
    "Remember the previous rounds. Follow the steps as shown in previous lectures and try to improve the accuracy of the model. Include both categorical columns in the exercise.\n",
    "Some approaches you can try in this exercise:\n",
    "\n",
    "- use the concept of multicollinearity and remove insignificant variables\n",
    "- use a different method of scaling the numerical variables\n",
    "- use a different ratio of train test split\n",
    "- use the transformation on numerical columns which align it more towards a normal distribution\n",
    "\n",
    "### Get the data\n",
    "\n",
    "We are using the `marketing_customer_analysis.csv` file.\n",
    "\n",
    "### Dealing with the data\n",
    "\n",
    "Already done in rounds 2 to 7.\n",
    "\n",
    "**Bonus**: Build a function, from round 2 and round 7, to clean and process the data.\n",
    "\n",
    "### Explore the data\n",
    "\n",
    "Done in the round 3.\n",
    "\n",
    "### Modeling\n",
    "\n",
    "Description:\n",
    "\n",
    "- Try to improve the linear regression model."
   ]
  },
  {
   "cell_type": "markdown",
   "metadata": {},
   "source": [
    "### Lesson 2 key concepts\n",
    "\n",
    "> :clock10: 20 min\n",
    "\n",
    "- Quick recap to version control systems: Why git and Github?\n",
    "- Managing a repository on GitHub (quick recap - already discussed on day 1):\n",
    "  - Create a repo\n",
    "  - Make changes and commit to a repo\n",
    "  - Forking and cloning a repo\n",
    "  - Fork vs. clone\n",
    "  - Create a pull request\n",
    "\n",
    "</details>"
   ]
  },
  {
   "cell_type": "markdown",
   "metadata": {},
   "source": [
    "### Lesson 3 key concepts\n",
    "\n",
    "> :clock10: 20 min\n",
    "\n",
    "- Working with branches\n",
    "- Resolving merge conflicts\n",
    "- Adding large files on GitHub\n",
    "- Initializing directories on personal computer as GitHub repos\n",
    "\n",
    "\n",
    "\n",
    "```shell\n",
    "$ git branch \t                        # shows the current branches in the repo\n",
    "$ git branch -a \t                    # shows all branches (even the ones you haven't worked on)\n",
    "$ git checkout -b <NameOfNewBranch>\t  # creates new branch\n",
    "$ git checkout <BranchName> \t        # switches to the branch we want to work on\n",
    "$ git pull \t                          # pulls the latest changes to the branch we are working on (git pull = git fetch + git merge)\n",
    "$ git fetch \t                        # gets all branches from the repository\n",
    "```\n",
    "\n",
    "#### Merging Branches\n",
    "\n",
    "Case 1: Merges changes in branch to the master file\n",
    "\n",
    "```shell\n",
    "$ git checkout master\n",
    "$ git merge <Name of Branch to be merged to Master>\n",
    "```\n",
    "\n",
    "Case 2: Merges changes in master file to the branch\n",
    "\n",
    "```shell\n",
    "$ git checkout <branch name>\n",
    "$ git merge master\n",
    "```"
   ]
  },
  {
   "cell_type": "markdown",
   "metadata": {},
   "source": [
    "### :pencil2: Practice on key concepts - Lab\n",
    "\n",
    "> :clock10: 30 min"
   ]
  },
  {
   "cell_type": "markdown",
   "metadata": {},
   "source": [
    "# Lab | Customer Analysis Final Round\n",
    "\n",
    "For this lab, we still keep using the `marketing_customer_analysis.csv` file that you can find in the `files_for_lab_final` folder.\n",
    "\n",
    "It's time to put it all together. Remember the previous rounds and follow the steps as shown in previous lectures.\n",
    "\n",
    "### 01 - Problem (case study)\n",
    "\n",
    "- Data Description.\n",
    "- Goal.\n",
    "\n",
    "### 02 - Getting Data\n",
    "\n",
    "- Read the `.csv` file.\n",
    "\n",
    "### 03 - Cleaning/Wrangling/EDA\n",
    "\n",
    "- Change headers names.\n",
    "- Deal with NaN values.\n",
    "- Categorical Features.\n",
    "- Numerical Features.\n",
    "- Exploration.\n",
    "\n",
    "### 04 - Processing Data\n",
    "\n",
    "- Dealing with outliers.\n",
    "- Normalization.\n",
    "- Encoding Categorical Data.\n",
    "- Splitting into train set and test set.\n",
    "\n",
    "### 05 - Modeling\n",
    "\n",
    "- Apply model.\n",
    "\n",
    "### 06 - Model Validation\n",
    "\n",
    "- R2.\n",
    "- MSE.\n",
    "- RMSE.\n",
    "- MAE.\n",
    "\n",
    "### 07 - Reporting\n",
    "\n",
    "- Present results."
   ]
  },
  {
   "cell_type": "markdown",
   "metadata": {},
   "source": [
    "# Solution to Lab: Custumer Analysis Final Round"
   ]
  },
  {
   "cell_type": "markdown",
   "metadata": {},
   "source": [
    "<font color='magenta'>\n",
    "Please comment before each cell of code using a markdown cell. You should clearly state with your own words what the portion of code in the cell bellow does or add other insightful comments on that operation. Use the html tags in this cell to add your comments in a striking color for an easy review.\n",
    "</font>\n"
   ]
  },
  {
   "cell_type": "markdown",
   "metadata": {
    "tags": []
   },
   "source": [
    "### 01 - Problem (case study)\n",
    "\n",
    "Data Description.\n",
    "\n",
    "- **customer:** Customer ID\n",
    "- **state:** US State\n",
    "- **customer_lifetime_value:** CLV is the client economic value for a company during all their relationship\n",
    "- **response:** Response to marketing calls (customer engagement)\n",
    "- **coverage:** Customer coverage type\n",
    "- **education:** Customer education level\n",
    "- **effective_to_date:** Effective to date\n",
    "- **employmentstatus:** Customer employment status\n",
    "- **gender:** Customer gender\n",
    "- **income:** Customer income\n",
    "- **location_code:** Customer living zone\n",
    "- **marital_status:** Customer marital status\n",
    "- **monthly_premium_auto:** Monthly premium\n",
    "- **months_since_last_claim:** Last customer claim\n",
    "- **months_since_policy_inception:** Policy Inception\n",
    "- **number_of_open_complaints:** Open claims\n",
    "- **number_of_policies:** Number policies\n",
    "- **policy_type:** Policy type\n",
    "- **policy:** Policy\n",
    "- **renew_offer_type:** Renew\n",
    "- **sales_channel:** Sales channel (customer-company first contact)\n",
    "- **total_claim_amount:** Claims amount\n",
    "- **vehicle_class:** Vehicle class\n",
    "- **vehicle_size:** Vehicle size\n",
    "- **vehicle_type:** Vehicle type\n",
    "\n",
    "**Goal.**  \n",
    "Can we predict the amount claimed by a client?\n",
    "\n",
    "### 02 - Getting Data\n",
    "\n",
    "- Read `.csv` file"
   ]
  },
  {
   "cell_type": "code",
   "execution_count": 26,
   "metadata": {},
   "outputs": [],
   "source": [
    "import pandas as pd                                           # panel data, handling dataframes\n",
    "pd.set_option('display.max_columns', None)"
   ]
  },
  {
   "cell_type": "markdown",
   "metadata": {},
   "source": [
    "#<font color='magenta'>\n",
    "Importamos la data\n",
    "</font>"
   ]
  },
  {
   "cell_type": "code",
   "execution_count": 27,
   "metadata": {},
   "outputs": [
    {
     "data": {
      "text/html": [
       "<div>\n",
       "<style scoped>\n",
       "    .dataframe tbody tr th:only-of-type {\n",
       "        vertical-align: middle;\n",
       "    }\n",
       "\n",
       "    .dataframe tbody tr th {\n",
       "        vertical-align: top;\n",
       "    }\n",
       "\n",
       "    .dataframe thead th {\n",
       "        text-align: right;\n",
       "    }\n",
       "</style>\n",
       "<table border=\"1\" class=\"dataframe\">\n",
       "  <thead>\n",
       "    <tr style=\"text-align: right;\">\n",
       "      <th></th>\n",
       "      <th>Customer</th>\n",
       "      <th>State</th>\n",
       "      <th>Customer Lifetime Value</th>\n",
       "      <th>Response</th>\n",
       "      <th>Coverage</th>\n",
       "      <th>Education</th>\n",
       "      <th>Effective To Date</th>\n",
       "      <th>EmploymentStatus</th>\n",
       "      <th>Gender</th>\n",
       "      <th>Income</th>\n",
       "      <th>Location Code</th>\n",
       "      <th>Marital Status</th>\n",
       "      <th>Monthly Premium Auto</th>\n",
       "      <th>Months Since Last Claim</th>\n",
       "      <th>Months Since Policy Inception</th>\n",
       "      <th>Number of Open Complaints</th>\n",
       "      <th>Number of Policies</th>\n",
       "      <th>Policy Type</th>\n",
       "      <th>Policy</th>\n",
       "      <th>Renew Offer Type</th>\n",
       "      <th>Sales Channel</th>\n",
       "      <th>Total Claim Amount</th>\n",
       "      <th>Vehicle Class</th>\n",
       "      <th>Vehicle Size</th>\n",
       "    </tr>\n",
       "  </thead>\n",
       "  <tbody>\n",
       "    <tr>\n",
       "      <th>0</th>\n",
       "      <td>BU79786</td>\n",
       "      <td>Washington</td>\n",
       "      <td>2763.519279</td>\n",
       "      <td>No</td>\n",
       "      <td>Basic</td>\n",
       "      <td>Bachelor</td>\n",
       "      <td>2/24/11</td>\n",
       "      <td>Employed</td>\n",
       "      <td>F</td>\n",
       "      <td>56274</td>\n",
       "      <td>Suburban</td>\n",
       "      <td>Married</td>\n",
       "      <td>69</td>\n",
       "      <td>32</td>\n",
       "      <td>5</td>\n",
       "      <td>0</td>\n",
       "      <td>1</td>\n",
       "      <td>Corporate Auto</td>\n",
       "      <td>Corporate L3</td>\n",
       "      <td>Offer1</td>\n",
       "      <td>Agent</td>\n",
       "      <td>384.811147</td>\n",
       "      <td>Two-Door Car</td>\n",
       "      <td>Medsize</td>\n",
       "    </tr>\n",
       "    <tr>\n",
       "      <th>1</th>\n",
       "      <td>QZ44356</td>\n",
       "      <td>Arizona</td>\n",
       "      <td>6979.535903</td>\n",
       "      <td>No</td>\n",
       "      <td>Extended</td>\n",
       "      <td>Bachelor</td>\n",
       "      <td>1/31/11</td>\n",
       "      <td>Unemployed</td>\n",
       "      <td>F</td>\n",
       "      <td>0</td>\n",
       "      <td>Suburban</td>\n",
       "      <td>Single</td>\n",
       "      <td>94</td>\n",
       "      <td>13</td>\n",
       "      <td>42</td>\n",
       "      <td>0</td>\n",
       "      <td>8</td>\n",
       "      <td>Personal Auto</td>\n",
       "      <td>Personal L3</td>\n",
       "      <td>Offer3</td>\n",
       "      <td>Agent</td>\n",
       "      <td>1131.464935</td>\n",
       "      <td>Four-Door Car</td>\n",
       "      <td>Medsize</td>\n",
       "    </tr>\n",
       "    <tr>\n",
       "      <th>2</th>\n",
       "      <td>AI49188</td>\n",
       "      <td>Nevada</td>\n",
       "      <td>12887.431650</td>\n",
       "      <td>No</td>\n",
       "      <td>Premium</td>\n",
       "      <td>Bachelor</td>\n",
       "      <td>2/19/11</td>\n",
       "      <td>Employed</td>\n",
       "      <td>F</td>\n",
       "      <td>48767</td>\n",
       "      <td>Suburban</td>\n",
       "      <td>Married</td>\n",
       "      <td>108</td>\n",
       "      <td>18</td>\n",
       "      <td>38</td>\n",
       "      <td>0</td>\n",
       "      <td>2</td>\n",
       "      <td>Personal Auto</td>\n",
       "      <td>Personal L3</td>\n",
       "      <td>Offer1</td>\n",
       "      <td>Agent</td>\n",
       "      <td>566.472247</td>\n",
       "      <td>Two-Door Car</td>\n",
       "      <td>Medsize</td>\n",
       "    </tr>\n",
       "    <tr>\n",
       "      <th>3</th>\n",
       "      <td>WW63253</td>\n",
       "      <td>California</td>\n",
       "      <td>7645.861827</td>\n",
       "      <td>No</td>\n",
       "      <td>Basic</td>\n",
       "      <td>Bachelor</td>\n",
       "      <td>1/20/11</td>\n",
       "      <td>Unemployed</td>\n",
       "      <td>M</td>\n",
       "      <td>0</td>\n",
       "      <td>Suburban</td>\n",
       "      <td>Married</td>\n",
       "      <td>106</td>\n",
       "      <td>18</td>\n",
       "      <td>65</td>\n",
       "      <td>0</td>\n",
       "      <td>7</td>\n",
       "      <td>Corporate Auto</td>\n",
       "      <td>Corporate L2</td>\n",
       "      <td>Offer1</td>\n",
       "      <td>Call Center</td>\n",
       "      <td>529.881344</td>\n",
       "      <td>SUV</td>\n",
       "      <td>Medsize</td>\n",
       "    </tr>\n",
       "    <tr>\n",
       "      <th>4</th>\n",
       "      <td>HB64268</td>\n",
       "      <td>Washington</td>\n",
       "      <td>2813.692575</td>\n",
       "      <td>No</td>\n",
       "      <td>Basic</td>\n",
       "      <td>Bachelor</td>\n",
       "      <td>2/3/11</td>\n",
       "      <td>Employed</td>\n",
       "      <td>M</td>\n",
       "      <td>43836</td>\n",
       "      <td>Rural</td>\n",
       "      <td>Single</td>\n",
       "      <td>73</td>\n",
       "      <td>12</td>\n",
       "      <td>44</td>\n",
       "      <td>0</td>\n",
       "      <td>1</td>\n",
       "      <td>Personal Auto</td>\n",
       "      <td>Personal L1</td>\n",
       "      <td>Offer1</td>\n",
       "      <td>Agent</td>\n",
       "      <td>138.130879</td>\n",
       "      <td>Four-Door Car</td>\n",
       "      <td>Medsize</td>\n",
       "    </tr>\n",
       "  </tbody>\n",
       "</table>\n",
       "</div>"
      ],
      "text/plain": [
       "  Customer       State  Customer Lifetime Value Response  Coverage Education  \\\n",
       "0  BU79786  Washington              2763.519279       No     Basic  Bachelor   \n",
       "1  QZ44356     Arizona              6979.535903       No  Extended  Bachelor   \n",
       "2  AI49188      Nevada             12887.431650       No   Premium  Bachelor   \n",
       "3  WW63253  California              7645.861827       No     Basic  Bachelor   \n",
       "4  HB64268  Washington              2813.692575       No     Basic  Bachelor   \n",
       "\n",
       "  Effective To Date EmploymentStatus Gender  Income Location Code  \\\n",
       "0           2/24/11         Employed      F   56274      Suburban   \n",
       "1           1/31/11       Unemployed      F       0      Suburban   \n",
       "2           2/19/11         Employed      F   48767      Suburban   \n",
       "3           1/20/11       Unemployed      M       0      Suburban   \n",
       "4            2/3/11         Employed      M   43836         Rural   \n",
       "\n",
       "  Marital Status  Monthly Premium Auto  Months Since Last Claim  \\\n",
       "0        Married                    69                       32   \n",
       "1         Single                    94                       13   \n",
       "2        Married                   108                       18   \n",
       "3        Married                   106                       18   \n",
       "4         Single                    73                       12   \n",
       "\n",
       "   Months Since Policy Inception  Number of Open Complaints  \\\n",
       "0                              5                          0   \n",
       "1                             42                          0   \n",
       "2                             38                          0   \n",
       "3                             65                          0   \n",
       "4                             44                          0   \n",
       "\n",
       "   Number of Policies     Policy Type        Policy Renew Offer Type  \\\n",
       "0                   1  Corporate Auto  Corporate L3           Offer1   \n",
       "1                   8   Personal Auto   Personal L3           Offer3   \n",
       "2                   2   Personal Auto   Personal L3           Offer1   \n",
       "3                   7  Corporate Auto  Corporate L2           Offer1   \n",
       "4                   1   Personal Auto   Personal L1           Offer1   \n",
       "\n",
       "  Sales Channel  Total Claim Amount  Vehicle Class Vehicle Size  \n",
       "0         Agent          384.811147   Two-Door Car      Medsize  \n",
       "1         Agent         1131.464935  Four-Door Car      Medsize  \n",
       "2         Agent          566.472247   Two-Door Car      Medsize  \n",
       "3   Call Center          529.881344            SUV      Medsize  \n",
       "4         Agent          138.130879  Four-Door Car      Medsize  "
      ]
     },
     "execution_count": 27,
     "metadata": {},
     "output_type": "execute_result"
    }
   ],
   "source": [
    "data=pd.read_csv('./files_for_lab_final/csv_files/marketing_customer_analysis.csv')    # import csv file\n",
    "data.head()                                                    # show first 5 rows"
   ]
  },
  {
   "cell_type": "markdown",
   "metadata": {},
   "source": [
    "#<font color='magenta'>\n",
    "Leemos los datos necesarios para el ejercicio del archivo determinado a partir de la función read_csv porque es un archivo csv\n",
    "</font>"
   ]
  },
  {
   "cell_type": "markdown",
   "metadata": {},
   "source": [
    "### 03 - Cleaning/Wrangling/EDA\n",
    "\n",
    "- Change headers names."
   ]
  },
  {
   "cell_type": "code",
   "execution_count": 28,
   "metadata": {},
   "outputs": [
    {
     "data": {
      "text/plain": [
       "(9134, 24)"
      ]
     },
     "execution_count": 28,
     "metadata": {},
     "output_type": "execute_result"
    }
   ],
   "source": [
    "data.shape       # dataframe dimensions"
   ]
  },
  {
   "cell_type": "markdown",
   "metadata": {},
   "source": [
    "#<font color='magenta'>\n",
    "Leemos las dimensiones del dataframe, lineas y columnas. Vemos que tenemos un dataset de 9134 clientes\n",
    "</font>"
   ]
  },
  {
   "cell_type": "code",
   "execution_count": 29,
   "metadata": {},
   "outputs": [
    {
     "data": {
      "text/plain": [
       "Index(['Customer', 'State', 'Customer Lifetime Value', 'Response', 'Coverage',\n",
       "       'Education', 'Effective To Date', 'EmploymentStatus', 'Gender',\n",
       "       'Income', 'Location Code', 'Marital Status', 'Monthly Premium Auto',\n",
       "       'Months Since Last Claim', 'Months Since Policy Inception',\n",
       "       'Number of Open Complaints', 'Number of Policies', 'Policy Type',\n",
       "       'Policy', 'Renew Offer Type', 'Sales Channel', 'Total Claim Amount',\n",
       "       'Vehicle Class', 'Vehicle Size'],\n",
       "      dtype='object')"
      ]
     },
     "execution_count": 29,
     "metadata": {},
     "output_type": "execute_result"
    }
   ],
   "source": [
    "data.columns     # columns headers"
   ]
  },
  {
   "cell_type": "markdown",
   "metadata": {},
   "source": [
    "#<font color='magenta'>\n",
    "Leemos el nombre de todas las columnas del dataframe\n",
    "</font>"
   ]
  },
  {
   "cell_type": "code",
   "execution_count": 30,
   "metadata": {},
   "outputs": [
    {
     "data": {
      "text/plain": [
       "Index(['customer', 'state', 'customer_lifetime_value', 'response', 'coverage',\n",
       "       'education', 'effective_to_date', 'employmentstatus', 'gender',\n",
       "       'income', 'location_code', 'marital_status', 'monthly_premium_auto',\n",
       "       'months_since_last_claim', 'months_since_policy_inception',\n",
       "       'number_of_open_complaints', 'number_of_policies', 'policy_type',\n",
       "       'policy', 'renew_offer_type', 'sales_channel', 'total_claim_amount',\n",
       "       'vehicle_class', 'vehicle_size'],\n",
       "      dtype='object')"
      ]
     },
     "execution_count": 30,
     "metadata": {},
     "output_type": "execute_result"
    }
   ],
   "source": [
    "data.columns=[e.lower().replace(' ', '_') for e in data.columns]   # lower and replace\n",
    "data.columns"
   ]
  },
  {
   "cell_type": "markdown",
   "metadata": {},
   "source": [
    "#<font color='magenta'>\n",
    "Transformamos todos los titulos a minuscula y transformamos los espacios \" \" por \"_\" para estandarizar el dataframe\n",
    "</font>"
   ]
  },
  {
   "cell_type": "markdown",
   "metadata": {},
   "source": [
    "- Deal with NaN values."
   ]
  },
  {
   "cell_type": "code",
   "execution_count": 31,
   "metadata": {},
   "outputs": [
    {
     "name": "stdout",
     "output_type": "stream",
     "text": [
      "<class 'pandas.core.frame.DataFrame'>\n",
      "RangeIndex: 9134 entries, 0 to 9133\n",
      "Data columns (total 24 columns):\n",
      " #   Column                         Non-Null Count  Dtype  \n",
      "---  ------                         --------------  -----  \n",
      " 0   customer                       9134 non-null   object \n",
      " 1   state                          9134 non-null   object \n",
      " 2   customer_lifetime_value        9134 non-null   float64\n",
      " 3   response                       9134 non-null   object \n",
      " 4   coverage                       9134 non-null   object \n",
      " 5   education                      9134 non-null   object \n",
      " 6   effective_to_date              9134 non-null   object \n",
      " 7   employmentstatus               9134 non-null   object \n",
      " 8   gender                         9134 non-null   object \n",
      " 9   income                         9134 non-null   int64  \n",
      " 10  location_code                  9134 non-null   object \n",
      " 11  marital_status                 9134 non-null   object \n",
      " 12  monthly_premium_auto           9134 non-null   int64  \n",
      " 13  months_since_last_claim        9134 non-null   int64  \n",
      " 14  months_since_policy_inception  9134 non-null   int64  \n",
      " 15  number_of_open_complaints      9134 non-null   int64  \n",
      " 16  number_of_policies             9134 non-null   int64  \n",
      " 17  policy_type                    9134 non-null   object \n",
      " 18  policy                         9134 non-null   object \n",
      " 19  renew_offer_type               9134 non-null   object \n",
      " 20  sales_channel                  9134 non-null   object \n",
      " 21  total_claim_amount             9134 non-null   float64\n",
      " 22  vehicle_class                  9134 non-null   object \n",
      " 23  vehicle_size                   9134 non-null   object \n",
      "dtypes: float64(2), int64(6), object(16)\n",
      "memory usage: 9.5 MB\n"
     ]
    }
   ],
   "source": [
    "data.info(memory_usage='deep')   # dataframe info"
   ]
  },
  {
   "cell_type": "markdown",
   "metadata": {},
   "source": [
    "#<font color='magenta'>\n",
    "Analizamos cuantos Nans hay en el modelo, como podemos observar, no hay ninguno\n",
    "</font>"
   ]
  },
  {
   "cell_type": "code",
   "execution_count": 32,
   "metadata": {},
   "outputs": [
    {
     "data": {
      "text/plain": [
       "customer                         0\n",
       "state                            0\n",
       "customer_lifetime_value          0\n",
       "response                         0\n",
       "coverage                         0\n",
       "education                        0\n",
       "effective_to_date                0\n",
       "employmentstatus                 0\n",
       "gender                           0\n",
       "income                           0\n",
       "location_code                    0\n",
       "marital_status                   0\n",
       "monthly_premium_auto             0\n",
       "months_since_last_claim          0\n",
       "months_since_policy_inception    0\n",
       "number_of_open_complaints        0\n",
       "number_of_policies               0\n",
       "policy_type                      0\n",
       "policy                           0\n",
       "renew_offer_type                 0\n",
       "sales_channel                    0\n",
       "total_claim_amount               0\n",
       "vehicle_class                    0\n",
       "vehicle_size                     0\n",
       "dtype: int64"
      ]
     },
     "execution_count": 32,
     "metadata": {},
     "output_type": "execute_result"
    }
   ],
   "source": [
    "data.isna().sum()     # missing values"
   ]
  },
  {
   "cell_type": "markdown",
   "metadata": {},
   "source": [
    "#<font color='magenta'>\n",
    "Comprobamos que efectivamente no hay NANs\n",
    "</font>"
   ]
  },
  {
   "cell_type": "code",
   "execution_count": 33,
   "metadata": {},
   "outputs": [],
   "source": [
    "data = data.drop(columns=['vehicle_class', 'customer'])   # drop useless columns (no info or nan)"
   ]
  },
  {
   "cell_type": "markdown",
   "metadata": {},
   "source": [
    "#<font color='magenta'>\n",
    "Descartamos las columnas Vheicle_class y customer, porque decidimos que no van a tener ningun poder predictivo ya que la información que aportan no será relevante a la hora de predecir el totalclaimed\n",
    "</font>"
   ]
  },
  {
   "cell_type": "code",
   "execution_count": 34,
   "metadata": {},
   "outputs": [],
   "source": [
    "data=data.dropna()   # drop rows with nan values"
   ]
  },
  {
   "cell_type": "markdown",
   "metadata": {},
   "source": [
    "#<font color='magenta'>\n",
    "Con esta orden nos desariamos de las filas que tuviesen NANs, aunque ya hemos comprobado que no hay ninguno, es una rutina\n",
    "</font>"
   ]
  },
  {
   "cell_type": "code",
   "execution_count": 35,
   "metadata": {},
   "outputs": [
    {
     "name": "stdout",
     "output_type": "stream",
     "text": [
      "state 5\n",
      "customer_lifetime_value 8041\n",
      "response 2\n",
      "coverage 3\n",
      "education 5\n",
      "effective_to_date 59\n",
      "employmentstatus 5\n",
      "gender 2\n",
      "income 5694\n",
      "location_code 3\n",
      "marital_status 3\n",
      "monthly_premium_auto 202\n",
      "months_since_last_claim 36\n",
      "months_since_policy_inception 100\n",
      "number_of_open_complaints 6\n",
      "number_of_policies 9\n",
      "policy_type 3\n",
      "policy 9\n",
      "renew_offer_type 4\n",
      "sales_channel 4\n",
      "total_claim_amount 5106\n",
      "vehicle_size 3\n"
     ]
    }
   ],
   "source": [
    "for c in data.columns.tolist():         # know the unique values for each column\n",
    "    print(c, len(data[c].unique()))"
   ]
  },
  {
   "cell_type": "markdown",
   "metadata": {},
   "source": [
    "#<font color='magenta'>\n",
    "A través de este bucle for analizamos cuantos valores son unicos dentro de cada columna, sobre todo para ver si es categorica cuantas clases tiene. Devuelve, para cada columna las columnas y la longitud de esos valores unicos. Con esto se puede entender que columnas son categoricas y cuales no\n",
    "</font>"
   ]
  },
  {
   "cell_type": "code",
   "execution_count": 36,
   "metadata": {},
   "outputs": [
    {
     "data": {
      "text/plain": [
       "(9134, 22)"
      ]
     },
     "execution_count": 36,
     "metadata": {},
     "output_type": "execute_result"
    }
   ],
   "source": [
    "data.shape"
   ]
  },
  {
   "cell_type": "markdown",
   "metadata": {},
   "source": [
    "#<font color='magenta'>\n",
    "Comprobamos de nuevo las nuevas dimensiones\n",
    "</font>"
   ]
  },
  {
   "cell_type": "markdown",
   "metadata": {},
   "source": [
    "- Datetime Features.\n",
    "\n",
    "**Effective To Date**"
   ]
  },
  {
   "cell_type": "code",
   "execution_count": 37,
   "metadata": {},
   "outputs": [
    {
     "name": "stdout",
     "output_type": "stream",
     "text": [
      "Original dtype: object\n",
      "\n",
      "Meantime dtype: datetime64[ns]\n"
     ]
    }
   ],
   "source": [
    "print(f\"Original dtype: {data['effective_to_date'].dtype}\\n\")   # object\n",
    "data['effective_to_date']=pd.to_datetime(data['effective_to_date'])   # datetime\n",
    "print(f\"Meantime dtype: {data['effective_to_date'].dtype}\")"
   ]
  },
  {
   "cell_type": "markdown",
   "metadata": {},
   "source": [
    "#<font color='magenta'>\n",
    "Activamos la funcion de pandas datetime, para que python empiece a leer la columna effective to date como fechas\n",
    "</font>"
   ]
  },
  {
   "cell_type": "code",
   "execution_count": 38,
   "metadata": {},
   "outputs": [
    {
     "name": "stdout",
     "output_type": "stream",
     "text": [
      "--\n",
      "Min date: 2011-01-01 00:00:00\n",
      "Max date: 2011-02-28 00:00:00\n",
      "--\n"
     ]
    }
   ],
   "source": [
    "print('--')\n",
    "print(f\"Min date: {data['effective_to_date'].min()}\")         # from January 1st..\n",
    "print(f\"Max date: {data['effective_to_date'].max()}\")         # to February 28th\n",
    "print('--')"
   ]
  },
  {
   "cell_type": "markdown",
   "metadata": {},
   "source": [
    "#<font color='magenta'>\n",
    "Como ejemplo miramos cual es la primera y la ultima fecha de la lista, y vemos que tenemos datos relativos a dos meses, Enero y Febrero\n",
    "</font>"
   ]
  },
  {
   "cell_type": "code",
   "execution_count": 39,
   "metadata": {},
   "outputs": [
    {
     "name": "stdout",
     "output_type": "stream",
     "text": [
      "New dtype: int64\n"
     ]
    }
   ],
   "source": [
    "data['effective_to_date']=data['effective_to_date'].apply(lambda x: x.toordinal())   # you can change the type to ordinal.\n",
    "\n",
    "print(f\"New dtype: {data['effective_to_date'].dtype}\")"
   ]
  },
  {
   "cell_type": "markdown",
   "metadata": {},
   "source": [
    "#<font color='magenta'>\n",
    "Hemos transformado los valores temporales a un lenguaje que pandas los entiende, sin embargo, este formato no puede incluirse dentro de un modelo matemático. Para ello hay que transformarlos de nuevo, en este caso lo que hacemos es utilizar la funciomn de Linux en la que transforma estas fechas a los segundos que han pasado desde el tiempo gregoriano\n",
    "</font>"
   ]
  },
  {
   "cell_type": "code",
   "execution_count": 40,
   "metadata": {},
   "outputs": [
    {
     "data": {
      "text/plain": [
       "0       734192\n",
       "1       734168\n",
       "2       734187\n",
       "3       734157\n",
       "4       734171\n",
       "         ...  \n",
       "9129    734178\n",
       "9130    734180\n",
       "9131    734174\n",
       "9132    734171\n",
       "9133    734182\n",
       "Name: effective_to_date, Length: 9134, dtype: int64"
      ]
     },
     "execution_count": 40,
     "metadata": {},
     "output_type": "execute_result"
    }
   ],
   "source": [
    "data['effective_to_date']"
   ]
  },
  {
   "cell_type": "code",
   "execution_count": 41,
   "metadata": {},
   "outputs": [],
   "source": [
    "# Or alternatively use Unix time\n",
    "# data['effective_to_date']  = (data['effective_to_date']  - pd.Timestamp(\"1970-01-01\")) // pd.Timedelta('1s')"
   ]
  },
  {
   "cell_type": "markdown",
   "metadata": {},
   "source": [
    "- Categorical Features."
   ]
  },
  {
   "cell_type": "markdown",
   "metadata": {},
   "source": [
    "**Values for each class in categorical features**"
   ]
  },
  {
   "cell_type": "code",
   "execution_count": 42,
   "metadata": {},
   "outputs": [],
   "source": [
    "cat_cols=[col for col in data.columns if (data[col].dtype==object)]     # categorical columns"
   ]
  },
  {
   "cell_type": "markdown",
   "metadata": {},
   "source": [
    "#<font color='magenta'>\n",
    "Proceso para obtener que columnas son categóricas dentro del dataset, cada una de estas columnas deberemos separarlas en tantas columnas como categorías tenga\n",
    "</font>"
   ]
  },
  {
   "cell_type": "code",
   "execution_count": 43,
   "metadata": {},
   "outputs": [
    {
     "name": "stdout",
     "output_type": "stream",
     "text": [
      "Categorical Features: 13\n",
      "----------\n",
      "Name: state\n",
      "Type: object\n",
      "Unique values: 5\n",
      "['Washington' 'Arizona' 'Nevada' 'California' 'Oregon']\n",
      "California    34.486534\n",
      "Oregon        28.476024\n",
      "Arizona       18.644624\n",
      "Nevada         9.656229\n",
      "Washington     8.736589\n",
      "Name: state, dtype: float64\n",
      "\n",
      "----------\n",
      "Name: response\n",
      "Type: object\n",
      "Unique values: 2\n",
      "['No' 'Yes']\n",
      "No     85.679877\n",
      "Yes    14.320123\n",
      "Name: response, dtype: float64\n",
      "\n",
      "----------\n",
      "Name: coverage\n",
      "Type: object\n",
      "Unique values: 3\n",
      "['Basic' 'Extended' 'Premium']\n",
      "Basic       60.959054\n",
      "Extended    30.019707\n",
      "Premium      9.021239\n",
      "Name: coverage, dtype: float64\n",
      "\n",
      "----------\n",
      "Name: education\n",
      "Type: object\n",
      "Unique values: 5\n",
      "['Bachelor' 'College' 'Master' 'High School or Below' 'Doctor']\n",
      "Bachelor                30.085395\n",
      "College                 29.351872\n",
      "High School or Below    28.705934\n",
      "Master                   8.112547\n",
      "Doctor                   3.744252\n",
      "Name: education, dtype: float64\n",
      "\n",
      "----------\n",
      "Name: employmentstatus\n",
      "Type: object\n",
      "Unique values: 5\n",
      "['Employed' 'Unemployed' 'Medical Leave' 'Disabled' 'Retired']\n",
      "Employed         62.382308\n",
      "Unemployed       25.366762\n",
      "Medical Leave     4.729582\n",
      "Disabled          4.433983\n",
      "Retired           3.087366\n",
      "Name: employmentstatus, dtype: float64\n",
      "\n",
      "----------\n",
      "Name: gender\n",
      "Type: object\n",
      "Unique values: 2\n",
      "['F' 'M']\n",
      "F    50.996278\n",
      "M    49.003722\n",
      "Name: gender, dtype: float64\n",
      "\n",
      "----------\n",
      "Name: location_code\n",
      "Type: object\n",
      "Unique values: 3\n",
      "['Suburban' 'Rural' 'Urban']\n",
      "Suburban    63.269104\n",
      "Rural       19.410992\n",
      "Urban       17.319904\n",
      "Name: location_code, dtype: float64\n",
      "\n",
      "----------\n",
      "Name: marital_status\n",
      "Type: object\n",
      "Unique values: 3\n",
      "['Married' 'Single' 'Divorced']\n",
      "Married     58.003065\n",
      "Single      27.008977\n",
      "Divorced    14.987957\n",
      "Name: marital_status, dtype: float64\n",
      "\n",
      "----------\n",
      "Name: policy_type\n",
      "Type: object\n",
      "Unique values: 3\n",
      "['Corporate Auto' 'Personal Auto' 'Special Auto']\n",
      "Personal Auto     74.315743\n",
      "Corporate Auto    21.545873\n",
      "Special Auto       4.138384\n",
      "Name: policy_type, dtype: float64\n",
      "\n",
      "----------\n",
      "Name: policy\n",
      "Type: object\n",
      "Unique values: 9\n",
      "['Corporate L3' 'Personal L3' 'Corporate L2' 'Personal L1' 'Special L2'\n",
      " 'Corporate L1' 'Personal L2' 'Special L1' 'Special L3']\n",
      "Personal L3     37.508211\n",
      "Personal L2     23.231881\n",
      "Personal L1     13.575651\n",
      "Corporate L3    11.101379\n",
      "Corporate L2     6.514123\n",
      "Corporate L1     3.930370\n",
      "Special L2       1.795489\n",
      "Special L3       1.620320\n",
      "Special L1       0.722575\n",
      "Name: policy, dtype: float64\n",
      "\n",
      "----------\n",
      "Name: renew_offer_type\n",
      "Type: object\n",
      "Unique values: 4\n",
      "['Offer1' 'Offer3' 'Offer2' 'Offer4']\n",
      "Offer1    41.077294\n",
      "Offer2    32.034158\n",
      "Offer3    15.677688\n",
      "Offer4    11.210861\n",
      "Name: renew_offer_type, dtype: float64\n",
      "\n",
      "----------\n",
      "Name: sales_channel\n",
      "Type: object\n",
      "Unique values: 4\n",
      "['Agent' 'Call Center' 'Web' 'Branch']\n",
      "Agent          38.066564\n",
      "Branch         28.103788\n",
      "Call Center    19.323407\n",
      "Web            14.506240\n",
      "Name: sales_channel, dtype: float64\n",
      "\n",
      "----------\n",
      "Name: vehicle_size\n",
      "Type: object\n",
      "Unique values: 3\n",
      "['Medsize' 'Small' 'Large']\n",
      "Medsize    70.330633\n",
      "Small      19.312459\n",
      "Large      10.356908\n",
      "Name: vehicle_size, dtype: float64\n",
      "\n",
      "----------\n"
     ]
    }
   ],
   "source": [
    "print('Categorical Features:', len(cat_cols))\n",
    "print('----------')\n",
    "for c in cat_cols:\n",
    "    print(f'Name: {data[c].name}')    # column name\n",
    "    print(f'Type: {data[c].dtype}')   # column type\n",
    "    print(f'Unique values: {len(data[c].unique())}')   # column unique values\n",
    "    print(data[c].unique())\n",
    "    print(((data[c].value_counts()/ sum(data[c].value_counts()))*100))   # percentage\n",
    "    print('\\n----------')"
   ]
  },
  {
   "cell_type": "markdown",
   "metadata": {},
   "source": [
    "- Numerical Features."
   ]
  },
  {
   "cell_type": "markdown",
   "metadata": {},
   "source": [
    "#<font color='magenta'>\n",
    "Función para listar las variables categóricas. Nos da la cantidad de variables categóricas con las categorías que tiene implicitas\n",
    "</font>"
   ]
  },
  {
   "cell_type": "code",
   "execution_count": 45,
   "metadata": {},
   "outputs": [
    {
     "data": {
      "text/html": [
       "<div>\n",
       "<style scoped>\n",
       "    .dataframe tbody tr th:only-of-type {\n",
       "        vertical-align: middle;\n",
       "    }\n",
       "\n",
       "    .dataframe tbody tr th {\n",
       "        vertical-align: top;\n",
       "    }\n",
       "\n",
       "    .dataframe thead th {\n",
       "        text-align: right;\n",
       "    }\n",
       "</style>\n",
       "<table border=\"1\" class=\"dataframe\">\n",
       "  <thead>\n",
       "    <tr style=\"text-align: right;\">\n",
       "      <th></th>\n",
       "      <th>customer_lifetime_value</th>\n",
       "      <th>effective_to_date</th>\n",
       "      <th>income</th>\n",
       "      <th>monthly_premium_auto</th>\n",
       "      <th>months_since_last_claim</th>\n",
       "      <th>months_since_policy_inception</th>\n",
       "      <th>number_of_open_complaints</th>\n",
       "      <th>number_of_policies</th>\n",
       "      <th>total_claim_amount</th>\n",
       "    </tr>\n",
       "  </thead>\n",
       "  <tbody>\n",
       "    <tr>\n",
       "      <th>count</th>\n",
       "      <td>9134.000000</td>\n",
       "      <td>9134.000000</td>\n",
       "      <td>9134.000000</td>\n",
       "      <td>9134.000000</td>\n",
       "      <td>9134.000000</td>\n",
       "      <td>9134.000000</td>\n",
       "      <td>9134.000000</td>\n",
       "      <td>9134.000000</td>\n",
       "      <td>9134.000000</td>\n",
       "    </tr>\n",
       "    <tr>\n",
       "      <th>mean</th>\n",
       "      <td>8004.940475</td>\n",
       "      <td>734166.837749</td>\n",
       "      <td>37657.380009</td>\n",
       "      <td>93.219291</td>\n",
       "      <td>15.097000</td>\n",
       "      <td>48.064594</td>\n",
       "      <td>0.384388</td>\n",
       "      <td>2.966170</td>\n",
       "      <td>434.088794</td>\n",
       "    </tr>\n",
       "    <tr>\n",
       "      <th>std</th>\n",
       "      <td>6870.967608</td>\n",
       "      <td>16.942769</td>\n",
       "      <td>30379.904734</td>\n",
       "      <td>34.407967</td>\n",
       "      <td>10.073257</td>\n",
       "      <td>27.905991</td>\n",
       "      <td>0.910384</td>\n",
       "      <td>2.390182</td>\n",
       "      <td>290.500092</td>\n",
       "    </tr>\n",
       "    <tr>\n",
       "      <th>min</th>\n",
       "      <td>1898.007675</td>\n",
       "      <td>734138.000000</td>\n",
       "      <td>0.000000</td>\n",
       "      <td>61.000000</td>\n",
       "      <td>0.000000</td>\n",
       "      <td>0.000000</td>\n",
       "      <td>0.000000</td>\n",
       "      <td>1.000000</td>\n",
       "      <td>0.099007</td>\n",
       "    </tr>\n",
       "    <tr>\n",
       "      <th>25%</th>\n",
       "      <td>3994.251794</td>\n",
       "      <td>734152.000000</td>\n",
       "      <td>0.000000</td>\n",
       "      <td>68.000000</td>\n",
       "      <td>6.000000</td>\n",
       "      <td>24.000000</td>\n",
       "      <td>0.000000</td>\n",
       "      <td>1.000000</td>\n",
       "      <td>272.258244</td>\n",
       "    </tr>\n",
       "    <tr>\n",
       "      <th>50%</th>\n",
       "      <td>5780.182197</td>\n",
       "      <td>734166.000000</td>\n",
       "      <td>33889.500000</td>\n",
       "      <td>83.000000</td>\n",
       "      <td>14.000000</td>\n",
       "      <td>48.000000</td>\n",
       "      <td>0.000000</td>\n",
       "      <td>2.000000</td>\n",
       "      <td>383.945434</td>\n",
       "    </tr>\n",
       "    <tr>\n",
       "      <th>75%</th>\n",
       "      <td>8962.167041</td>\n",
       "      <td>734181.000000</td>\n",
       "      <td>62320.000000</td>\n",
       "      <td>109.000000</td>\n",
       "      <td>23.000000</td>\n",
       "      <td>71.000000</td>\n",
       "      <td>0.000000</td>\n",
       "      <td>4.000000</td>\n",
       "      <td>547.514839</td>\n",
       "    </tr>\n",
       "    <tr>\n",
       "      <th>max</th>\n",
       "      <td>83325.381190</td>\n",
       "      <td>734196.000000</td>\n",
       "      <td>99981.000000</td>\n",
       "      <td>298.000000</td>\n",
       "      <td>35.000000</td>\n",
       "      <td>99.000000</td>\n",
       "      <td>5.000000</td>\n",
       "      <td>9.000000</td>\n",
       "      <td>2893.239678</td>\n",
       "    </tr>\n",
       "  </tbody>\n",
       "</table>\n",
       "</div>"
      ],
      "text/plain": [
       "       customer_lifetime_value  effective_to_date        income  \\\n",
       "count              9134.000000        9134.000000   9134.000000   \n",
       "mean               8004.940475      734166.837749  37657.380009   \n",
       "std                6870.967608          16.942769  30379.904734   \n",
       "min                1898.007675      734138.000000      0.000000   \n",
       "25%                3994.251794      734152.000000      0.000000   \n",
       "50%                5780.182197      734166.000000  33889.500000   \n",
       "75%                8962.167041      734181.000000  62320.000000   \n",
       "max               83325.381190      734196.000000  99981.000000   \n",
       "\n",
       "       monthly_premium_auto  months_since_last_claim  \\\n",
       "count           9134.000000              9134.000000   \n",
       "mean              93.219291                15.097000   \n",
       "std               34.407967                10.073257   \n",
       "min               61.000000                 0.000000   \n",
       "25%               68.000000                 6.000000   \n",
       "50%               83.000000                14.000000   \n",
       "75%              109.000000                23.000000   \n",
       "max              298.000000                35.000000   \n",
       "\n",
       "       months_since_policy_inception  number_of_open_complaints  \\\n",
       "count                    9134.000000                9134.000000   \n",
       "mean                       48.064594                   0.384388   \n",
       "std                        27.905991                   0.910384   \n",
       "min                         0.000000                   0.000000   \n",
       "25%                        24.000000                   0.000000   \n",
       "50%                        48.000000                   0.000000   \n",
       "75%                        71.000000                   0.000000   \n",
       "max                        99.000000                   5.000000   \n",
       "\n",
       "       number_of_policies  total_claim_amount  \n",
       "count         9134.000000         9134.000000  \n",
       "mean             2.966170          434.088794  \n",
       "std              2.390182          290.500092  \n",
       "min              1.000000            0.099007  \n",
       "25%              1.000000          272.258244  \n",
       "50%              2.000000          383.945434  \n",
       "75%              4.000000          547.514839  \n",
       "max              9.000000         2893.239678  "
      ]
     },
     "execution_count": 45,
     "metadata": {},
     "output_type": "execute_result"
    }
   ],
   "source": [
    "data.describe()     # stats"
   ]
  },
  {
   "cell_type": "markdown",
   "metadata": {},
   "source": [
    "#<font color='magenta'>\n",
    "Vemos las estadísticas del dataset\n",
    "</font>"
   ]
  },
  {
   "cell_type": "code",
   "execution_count": 47,
   "metadata": {},
   "outputs": [],
   "source": [
    "num_cols=[c for c in data.columns if (data[c].dtype!='object') and (c!='Effective To Date')]   # numerical columns"
   ]
  },
  {
   "cell_type": "markdown",
   "metadata": {},
   "source": [
    "#<font color='magenta'>\n",
    "Definimos las columnas numéricas a partir de operadores lógicos\n",
    "</font>"
   ]
  },
  {
   "cell_type": "markdown",
   "metadata": {},
   "source": [
    "- Exploration.\n",
    "\n",
    "**Bar plot for each categorical variable.**"
   ]
  },
  {
   "cell_type": "code",
   "execution_count": 51,
   "metadata": {},
   "outputs": [
    {
     "data": {
      "image/png": "[encoded data removed]",
      "text/plain": [
       "<Figure size 720x360 with 1 Axes>"
      ]
     },
     "metadata": {
      "needs_background": "light"
     },
     "output_type": "display_data"
    },
    {
     "data": {
      "image/png": "[encoded data removed]",
      "text/plain": [
       "<Figure size 720x360 with 1 Axes>"
      ]
     },
     "metadata": {
      "needs_background": "light"
     },
     "output_type": "display_data"
    },
    {
     "data": {
      "image/png": "[encoded data removed]",
      "text/plain": [
       "<Figure size 720x360 with 1 Axes>"
      ]
     },
     "metadata": {
      "needs_background": "light"
     },
     "output_type": "display_data"
    },
    {
     "data": {
      "image/png": "[encoded data removed]",
      "text/plain": [
       "<Figure size 720x360 with 1 Axes>"
      ]
     },
     "metadata": {
      "needs_background": "light"
     },
     "output_type": "display_data"
    },
    {
     "data": {
      "image/png": "[encoded data removed]",
      "text/plain": [
       "<Figure size 720x360 with 1 Axes>"
      ]
     },
     "metadata": {
      "needs_background": "light"
     },
     "output_type": "display_data"
    },
    {
     "data": {
      "image/png": "[encoded data removed]",
      "text/plain": [
       "<Figure size 720x360 with 1 Axes>"
      ]
     },
     "metadata": {
      "needs_background": "light"
     },
     "output_type": "display_data"
    },
    {
     "data": {
      "image/png": "[encoded data removed]",
      "text/plain": [
       "<Figure size 720x360 with 1 Axes>"
      ]
     },
     "metadata": {
      "needs_background": "light"
     },
     "output_type": "display_data"
    },
    {
     "data": {
      "image/png": "[encoded data removed]",
      "text/plain": [
       "<Figure size 720x360 with 1 Axes>"
      ]
     },
     "metadata": {
      "needs_background": "light"
     },
     "output_type": "display_data"
    },
    {
     "data": {
      "image/png": "[encoded data removed]",
      "text/plain": [
       "<Figure size 720x360 with 1 Axes>"
      ]
     },
     "metadata": {
      "needs_background": "light"
     },
     "output_type": "display_data"
    },
    {
     "data": {
      "image/png": "[encoded data removed]",
      "text/plain": [
       "<Figure size 720x360 with 1 Axes>"
      ]
     },
     "metadata": {
      "needs_background": "light"
     },
     "output_type": "display_data"
    },
    {
     "data": {
      "image/png": "[encoded data removed]",
      "text/plain": [
       "<Figure size 720x360 with 1 Axes>"
      ]
     },
     "metadata": {
      "needs_background": "light"
     },
     "output_type": "display_data"
    },
    {
     "data": {
      "image/png": "[encoded data removed]",
      "text/plain": [
       "<Figure size 720x360 with 1 Axes>"
      ]
     },
     "metadata": {
      "needs_background": "light"
     },
     "output_type": "display_data"
    },
    {
     "data": {
      "image/png": "[encoded data removed]",
      "text/plain": [
       "<Figure size 720x360 with 1 Axes>"
      ]
     },
     "metadata": {
      "needs_background": "light"
     },
     "output_type": "display_data"
    }
   ],
   "source": [
    "import matplotlib.pyplot as plt                 # visualization library\n",
    "%matplotlib inline\n",
    "\n",
    "for c in cat_cols:\n",
    "    plt.figure(figsize=(10,5))\n",
    "    plt.bar(data[c].unique(), data[c].value_counts())\n",
    "    plt.title(c)\n",
    "    plt.show();"
   ]
  },
  {
   "cell_type": "markdown",
   "metadata": {},
   "source": [
    "#<font color='magenta'>\n",
    "Definimos librerías de visualización para hacer un análisis más sencillo.\n",
    "Posteriormente dibujamos cada columna categórica\n",
    "</font>"
   ]
  },
  {
   "cell_type": "code",
   "execution_count": 55,
   "metadata": {},
   "outputs": [],
   "source": [
    "import seaborn as sns\n",
    "sns.set(style=\"white\")"
   ]
  },
  {
   "cell_type": "markdown",
   "metadata": {},
   "source": [
    "**Correlation**"
   ]
  },
  {
   "cell_type": "code",
   "execution_count": 56,
   "metadata": {},
   "outputs": [
    {
     "name": "stderr",
     "output_type": "stream",
     "text": [
      "C:\\Users\\GW528AU\\AppData\\Local\\Temp\\ipykernel_9840\\129339137.py:7: DeprecationWarning: `np.bool` is a deprecated alias for the builtin `bool`. To silence this warning, use `bool` by itself. Doing this will not modify any behavior and is safe. If you specifically wanted the numpy scalar type, use `np.bool_` here.\n",
      "Deprecated in NumPy 1.20; for more details and guidance: https://numpy.org/devdocs/release/1.20.0-notes.html#deprecations\n",
      "  mask=np.triu(np.ones_like(corr, dtype=np.bool))     # generate a mask for the upper triangle\n"
     ]
    },
    {
     "data": {
      "image/png": "[encoded data removed]",
      "text/plain": [
       "<Figure size 792x648 with 2 Axes>"
      ]
     },
     "metadata": {},
     "output_type": "display_data"
    }
   ],
   "source": [
    "import numpy as np    # numerical python, algebra library\n",
    "\n",
    "\n",
    "corr=data.corr()      # compute the correlation matrix\n",
    "\n",
    "\n",
    "mask=np.triu(np.ones_like(corr, dtype=np.bool))     # generate a mask for the upper triangle\n",
    "\n",
    "f, ax=plt.subplots(figsize=(11, 9))                 # set up the matplotlib figure\n",
    "\n",
    "cmap=sns.diverging_palette(220, 10, as_cmap=True)   # generate a custom diverging colormap\n",
    "\n",
    "sns.heatmap(corr, mask=mask, cmap=cmap,             # draw the heatmap with the mask and correct aspect ratio\n",
    "            vmax=.3, center=0, square=True,\n",
    "            linewidths=.5, cbar_kws={\"shrink\": .5});"
   ]
  },
  {
   "cell_type": "markdown",
   "metadata": {},
   "source": [
    "#<font color='magenta'>\n",
    "Miramos las correlaciones con el objetivo de encontrar columnas correlacionadas que podamos eliminiar para dar más precisión al modelo\n",
    "    Las correlaciones negativas estan en el color azul y las positivas en el rojo, las no correlacionadas en blanca.\n",
    "    Vemos que no hay correlaciones claras ya que los indices de correlación son muy bajos ~0,3 si se acercase a 0,9 ya si que hablaríamos de correlación\n",
    "</font>"
   ]
  },
  {
   "cell_type": "markdown",
   "metadata": {},
   "source": [
    "**All variables**\n",
    "(be careful, this command may be quite memory hungry)"
   ]
  },
  {
   "cell_type": "code",
   "execution_count": null,
   "metadata": {},
   "outputs": [],
   "source": [
    "sns.pairplot(data[num_cols]);"
   ]
  },
  {
   "cell_type": "markdown",
   "metadata": {},
   "source": [
    "#<font color='magenta'>\n",
    "Esta línea nos ayuda a ver si se nos escapa algo de forma muy visual.\n",
    "En el eje de las Ys se representan todas las columnas y en el eje de las x todas las oclumnas tambien\n",
    "A partir de esto podemos ver las tendencias que siguen las correlaciones entre variables, si siguen alguna tendencia o alguna línea es que tienen cierta correlación, aquellas que son todo puntos aleatorios no tienen ninguna correlación.\n",
    "En la diagonal, se representan las distribuciones de cada variable, ya que se esta correlacionando una variable consigo misma\n",
    "</font>"
   ]
  },
  {
   "cell_type": "markdown",
   "metadata": {},
   "source": [
    "**Bar plot for each numerical variable.**"
   ]
  },
  {
   "cell_type": "code",
   "execution_count": 58,
   "metadata": {},
   "outputs": [
    {
     "data": {
      "image/png": "[encoded data removed]",
      "text/plain": [
       "<Figure size 720x360 with 1 Axes>"
      ]
     },
     "metadata": {},
     "output_type": "display_data"
    },
    {
     "data": {
      "image/png": "[encoded data removed]",
      "text/plain": [
       "<Figure size 720x360 with 1 Axes>"
      ]
     },
     "metadata": {},
     "output_type": "display_data"
    },
    {
     "data": {
      "image/png": "[encoded data removed]",
      "text/plain": [
       "<Figure size 720x360 with 1 Axes>"
      ]
     },
     "metadata": {},
     "output_type": "display_data"
    },
    {
     "data": {
      "image/png": "[encoded data removed]",
      "text/plain": [
       "<Figure size 720x360 with 1 Axes>"
      ]
     },
     "metadata": {},
     "output_type": "display_data"
    },
    {
     "data": {
      "image/png": "[encoded data removed]",
      "text/plain": [
       "<Figure size 720x360 with 1 Axes>"
      ]
     },
     "metadata": {},
     "output_type": "display_data"
    },
    {
     "data": {
      "image/png": "[encoded data removed]",
      "text/plain": [
       "<Figure size 720x360 with 1 Axes>"
      ]
     },
     "metadata": {},
     "output_type": "display_data"
    },
    {
     "data": {
      "image/png": "[encoded data removed]",
      "text/plain": [
       "<Figure size 720x360 with 1 Axes>"
      ]
     },
     "metadata": {},
     "output_type": "display_data"
    },
    {
     "data": {
      "image/png": "[encoded data removed]",
      "text/plain": [
       "<Figure size 720x360 with 1 Axes>"
      ]
     },
     "metadata": {},
     "output_type": "display_data"
    },
    {
     "data": {
      "image/png": "[encoded data removed]",
      "text/plain": [
       "<Figure size 720x360 with 1 Axes>"
      ]
     },
     "metadata": {},
     "output_type": "display_data"
    }
   ],
   "source": [
    "for c in num_cols:\n",
    "    plt.figure(figsize=(10,5))\n",
    "    plt.hist(data[c])\n",
    "    plt.title(c)\n",
    "    plt.show();"
   ]
  },
  {
   "cell_type": "markdown",
   "metadata": {},
   "source": [
    "#<font color='magenta'>\n",
    "Histograma para las variables numéricas\n",
    "</font>"
   ]
  },
  {
   "cell_type": "markdown",
   "metadata": {},
   "source": [
    "**Box plot for each numerical variable for know outliers of each feature.**"
   ]
  },
  {
   "cell_type": "code",
   "execution_count": null,
   "metadata": {},
   "outputs": [],
   "source": [
    "for c in num_cols:\n",
    "    plt.figure(figsize=(10,5))\n",
    "    plt.boxplot(data[c])\n",
    "    plt.title(c)\n",
    "    plt.show();"
   ]
  },
  {
   "cell_type": "markdown",
   "metadata": {},
   "source": [
    "#<font color='magenta'>\n",
    "Boxplot para ver si hay outliers\n",
    "</font>"
   ]
  },
  {
   "cell_type": "markdown",
   "metadata": {},
   "source": [
    "**Show a plot of the total number of response.**"
   ]
  },
  {
   "cell_type": "code",
   "execution_count": 62,
   "metadata": {},
   "outputs": [
    {
     "name": "stderr",
     "output_type": "stream",
     "text": [
      "C:\\Users\\GW528AU\\Anaconda3\\lib\\site-packages\\seaborn\\_decorators.py:36: FutureWarning: Pass the following variable as a keyword arg: x. From version 0.12, the only valid positional argument will be `data`, and passing other arguments without an explicit keyword will result in an error or misinterpretation.\n",
      "  warnings.warn(\n"
     ]
    },
    {
     "data": {
      "image/png": "[encoded data removed]",
      "text/plain": [
       "<Figure size 432x288 with 1 Axes>"
      ]
     },
     "metadata": {},
     "output_type": "display_data"
    }
   ],
   "source": [
    "sns.countplot('response', data=data)\n",
    "plt.ylabel('Total number of Response')\n",
    "plt.show();"
   ]
  },
  {
   "cell_type": "markdown",
   "metadata": {},
   "source": [
    "#<font color='magenta'>\n",
    "Representa en gráfica las respuestas a variables cualitativas en forma numérica \"Suma los Sies y los Noes por ejemplo y los representa en gráfica de barras\"\n",
    "</font>"
   ]
  },
  {
   "cell_type": "markdown",
   "metadata": {},
   "source": [
    "**Show a plot of the response rate by sales channel.**"
   ]
  },
  {
   "cell_type": "code",
   "execution_count": 63,
   "metadata": {},
   "outputs": [
    {
     "name": "stderr",
     "output_type": "stream",
     "text": [
      "C:\\Users\\GW528AU\\Anaconda3\\lib\\site-packages\\seaborn\\_decorators.py:36: FutureWarning: Pass the following variable as a keyword arg: x. From version 0.12, the only valid positional argument will be `data`, and passing other arguments without an explicit keyword will result in an error or misinterpretation.\n",
      "  warnings.warn(\n"
     ]
    },
    {
     "data": {
      "image/png": "[encoded data removed]",
      "text/plain": [
       "<Figure size 576x288 with 1 Axes>"
      ]
     },
     "metadata": {},
     "output_type": "display_data"
    }
   ],
   "source": [
    "plt.figure(figsize=(8,4))\n",
    "sns.countplot('response', hue='sales_channel', data=data)\n",
    "plt.ylabel('Response by Sales Channel')\n",
    "plt.show();"
   ]
  },
  {
   "cell_type": "markdown",
   "metadata": {},
   "source": [
    "#<font color='magenta'>\n",
    "Añadimos otro parámetro para ver como se comporta esa variable en relación a otra variable, es decir, a cuanta gente le gustan los perros en funcion del color de pelo que tengan\n",
    "</font>"
   ]
  },
  {
   "cell_type": "markdown",
   "metadata": {},
   "source": [
    "**Show a plot of the response rate by total claim amount.**"
   ]
  },
  {
   "cell_type": "code",
   "execution_count": null,
   "metadata": {},
   "outputs": [],
   "source": [
    "plt.figure(figsize=(12,6))\n",
    "sns.boxplot(y='total_claim_amount' , x='response', data=data)\n",
    "plt.ylabel('Response by Total Claim Amount')\n",
    "plt.show();"
   ]
  },
  {
   "cell_type": "markdown",
   "metadata": {},
   "source": [
    "**Show a plot of the response rate by income.**"
   ]
  },
  {
   "cell_type": "code",
   "execution_count": null,
   "metadata": {},
   "outputs": [],
   "source": [
    "plt.figure(figsize=(12,6))\n",
    "sns.boxplot(y='income' , x='response', data=data)\n",
    "plt.ylabel('Response by Inncome')\n",
    "plt.show();"
   ]
  },
  {
   "cell_type": "markdown",
   "metadata": {},
   "source": [
    "### 04 - Processing Data\n",
    "\n",
    "- Dealing with outliers"
   ]
  },
  {
   "cell_type": "code",
   "execution_count": null,
   "metadata": {},
   "outputs": [],
   "source": [
    "# e.g. 3*IQR in a column\n",
    "\n",
    "q1=np.percentile(data['customer_lifetime_value'], 25)   # percentile 25\n",
    "q3=np.percentile(data['customer_lifetime_value'], 75)   # percentile 75\n",
    "\n",
    "iqr=q3-q1  # IQR\n",
    "\n",
    "upper=q3+3*iqr   # upper boundary\n",
    "lower=q1-3*iqr   # lower boundary"
   ]
  },
  {
   "cell_type": "code",
   "execution_count": null,
   "metadata": {},
   "outputs": [],
   "source": [
    "len(data[data['customer_lifetime_value']<lower])"
   ]
  },
  {
   "cell_type": "code",
   "execution_count": null,
   "metadata": {},
   "outputs": [],
   "source": [
    "len(data[data['customer_lifetime_value']>upper])"
   ]
  },
  {
   "cell_type": "markdown",
   "metadata": {},
   "source": [
    "- Normalization\n",
    "\n",
    "**Min-Max Scaler**"
   ]
  },
  {
   "cell_type": "code",
   "execution_count": null,
   "metadata": {},
   "outputs": [],
   "source": [
    "from sklearn.preprocessing import MinMaxScaler\n",
    "\n",
    "data['effective_to_date']=MinMaxScaler().fit_transform(data['effective_to_date'].values.reshape(-1, 1))\n",
    "\n",
    "data['effective_to_date'].head()"
   ]
  },
  {
   "cell_type": "markdown",
   "metadata": {},
   "source": [
    "**Standardize**"
   ]
  },
  {
   "cell_type": "code",
   "execution_count": null,
   "metadata": {},
   "outputs": [],
   "source": [
    "from sklearn.preprocessing import StandardScaler\n",
    "\n",
    "num_cols"
   ]
  },
  {
   "cell_type": "code",
   "execution_count": null,
   "metadata": {},
   "outputs": [],
   "source": [
    "for c in num_cols[:-1]:   # we'll normalize all less the target column\n",
    "    data[c]=StandardScaler().fit_transform(data[c].values.reshape(-1, 1))"
   ]
  },
  {
   "cell_type": "code",
   "execution_count": null,
   "metadata": {},
   "outputs": [],
   "source": [
    "data.head()"
   ]
  },
  {
   "cell_type": "markdown",
   "metadata": {},
   "source": [
    "- **Encoding Categorical Data**"
   ]
  },
  {
   "cell_type": "code",
   "execution_count": null,
   "metadata": {},
   "outputs": [],
   "source": [
    "one_hot_data=pd.get_dummies(data[cat_cols], drop_first=True)   # one hot encoding categorical variables\n",
    "\n",
    "one_hot_data.head()"
   ]
  },
  {
   "cell_type": "markdown",
   "metadata": {},
   "source": [
    "**Concat numerical and categorical DataFrames**"
   ]
  },
  {
   "cell_type": "code",
   "execution_count": null,
   "metadata": {},
   "outputs": [],
   "source": [
    "data=pd.concat([data, one_hot_data], axis=1)   # concat dataframes\n",
    "data.drop(columns=cat_cols, inplace=True)\n",
    "data.head()"
   ]
  },
  {
   "cell_type": "markdown",
   "metadata": {},
   "source": [
    "- Splitting into train set and test set"
   ]
  },
  {
   "cell_type": "code",
   "execution_count": null,
   "metadata": {},
   "outputs": [],
   "source": [
    "# first, split X-y (learning-target data)\n",
    "X=data.drop(columns=['total_claim_amount'])\n",
    "y=data['total_claim_amount']\n",
    "\n",
    "# checking shape\n",
    "print(X.shape)\n",
    "print(y.shape)"
   ]
  },
  {
   "cell_type": "code",
   "execution_count": null,
   "metadata": {},
   "outputs": [],
   "source": [
    "# train_test_split\n",
    "from sklearn.model_selection import train_test_split as tts"
   ]
  },
  {
   "cell_type": "code",
   "execution_count": null,
   "metadata": {},
   "outputs": [],
   "source": [
    "# train-test-split (4 sets)\n",
    "\n",
    "X_train, X_test, y_train, y_test = tts(X, y, test_size=0.2, random_state=42)  # random state fixed sample"
   ]
  },
  {
   "cell_type": "markdown",
   "metadata": {},
   "source": [
    "### 05 - Modeling\n",
    "\n",
    "We have now the data prepared for the modeling phase.\n",
    "https://s3.amazonaws.com/assets.datacamp.com/email/other/ML+Cheat+Sheet_2.pdf\n"
   ]
  },
  {
   "cell_type": "markdown",
   "metadata": {},
   "source": [
    "Linear regression is a linear model, which means it works really nicely when the data has a linear shape. But, when the data has a non-linear shape, then a linear model cannot capture the non-linear features.\n",
    "\n",
    "So in this case, you can use the tree-based methods, which do a better job at capturing the non-linearity in the data by dividing the space into smaller sub-spaces depending on the questions asked."
   ]
  },
  {
   "cell_type": "markdown",
   "metadata": {},
   "source": [
    "**Linear Regression**"
   ]
  },
  {
   "cell_type": "code",
   "execution_count": null,
   "metadata": {},
   "outputs": [],
   "source": [
    "from sklearn.linear_model import LinearRegression as LinReg\n",
    "linreg=LinReg()    # model\n",
    "linreg.fit(X_train, y_train)   # model train\n",
    "y_pred_linreg=linreg.predict(X_test)   # model prediction"
   ]
  },
  {
   "cell_type": "markdown",
   "metadata": {},
   "source": [
    "**Regularization**"
   ]
  },
  {
   "cell_type": "code",
   "execution_count": null,
   "metadata": {},
   "outputs": [],
   "source": [
    "from sklearn.linear_model import Lasso       # L1\n",
    "from sklearn.linear_model import Ridge       # L2\n",
    "from sklearn.linear_model import ElasticNet  # L1+L2"
   ]
  },
  {
   "cell_type": "code",
   "execution_count": null,
   "metadata": {},
   "outputs": [],
   "source": [
    "# Lasso L1\n",
    "\n",
    "lasso=Lasso()\n",
    "lasso.fit(X_train, y_train)\n",
    "\n",
    "y_pred_lasso = lasso.predict(X_test)"
   ]
  },
  {
   "cell_type": "code",
   "execution_count": null,
   "metadata": {},
   "outputs": [],
   "source": [
    "# Ridge L2\n",
    "\n",
    "ridge=Ridge()\n",
    "ridge.fit(X_train, y_train)\n",
    "\n",
    "y_pred_ridge = ridge.predict(X_test)"
   ]
  },
  {
   "cell_type": "code",
   "execution_count": null,
   "metadata": {},
   "outputs": [],
   "source": [
    "# ElasticNet L1+L2\n",
    "\n",
    "elastic=ElasticNet()\n",
    "elastic.fit(X_train, y_train)\n",
    "\n",
    "y_pred_elastic = elastic.predict(X_test)"
   ]
  },
  {
   "cell_type": "markdown",
   "metadata": {},
   "source": [
    "**Random Forest Regressor**"
   ]
  },
  {
   "cell_type": "code",
   "execution_count": null,
   "metadata": {},
   "outputs": [],
   "source": [
    "from sklearn.ensemble import RandomForestRegressor as RFR\n",
    "\n",
    "rfr=RFR()\n",
    "rfr.fit(X_train, y_train)\n",
    "\n",
    "y_pred_rfr = rfr.predict(X_test)"
   ]
  },
  {
   "cell_type": "markdown",
   "metadata": {},
   "source": [
    "**XGBoost**"
   ]
  },
  {
   "cell_type": "code",
   "execution_count": null,
   "metadata": {},
   "outputs": [],
   "source": [
    "# conda install -c conda-forge xgboost"
   ]
  },
  {
   "cell_type": "code",
   "execution_count": null,
   "metadata": {},
   "outputs": [],
   "source": [
    "from xgboost import XGBRegressor as XGBR\n",
    "\n",
    "xgbr=XGBR()\n",
    "xgbr.fit(X_train, y_train)\n",
    "\n",
    "y_pred_xgbr = xgbr.predict(X_test)"
   ]
  },
  {
   "cell_type": "markdown",
   "metadata": {},
   "source": [
    "**LightGBM**"
   ]
  },
  {
   "cell_type": "code",
   "execution_count": null,
   "metadata": {},
   "outputs": [],
   "source": [
    "# conda install -c conda-forge lightgbm"
   ]
  },
  {
   "cell_type": "code",
   "execution_count": null,
   "metadata": {},
   "outputs": [],
   "source": [
    "from lightgbm import LGBMRegressor as LGBMR\n",
    "\n",
    "lgbmr=LGBMR()\n",
    "lgbmr.fit(X_train, y_train)\n",
    "\n",
    "y_pred_lgbmr = lgbmr.predict(X_test)"
   ]
  },
  {
   "cell_type": "markdown",
   "metadata": {},
   "source": [
    "### 06 - Model Validation"
   ]
  },
  {
   "cell_type": "code",
   "execution_count": null,
   "metadata": {},
   "outputs": [],
   "source": [
    "models=[linreg, lasso, ridge, elastic, rfr, xgbr, lgbmr]\n",
    "model_names=['linreg', 'lasso', 'ridge', 'elastic', 'rfr', 'xgbr', 'lgbmr']\n",
    "preds=[y_pred_linreg, y_pred_lasso, y_pred_ridge, y_pred_elastic, y_pred_rfr, y_pred_xgbr, y_pred_lgbmr]"
   ]
  },
  {
   "cell_type": "markdown",
   "metadata": {},
   "source": [
    "- R2."
   ]
  },
  {
   "cell_type": "code",
   "execution_count": null,
   "metadata": {},
   "outputs": [],
   "source": [
    "for i in range(len(models)):\n",
    "\n",
    "    train_score=models[i].score(X_train, y_train) #R2\n",
    "    test_score=models[i].score(X_test, y_test)\n",
    "\n",
    "    print ('Model: {}, train R2: {} -- test R2: {}'.format(model_names[i], train_score, test_score))"
   ]
  },
  {
   "cell_type": "markdown",
   "metadata": {},
   "source": [
    "- MSE."
   ]
  },
  {
   "cell_type": "code",
   "execution_count": null,
   "metadata": {},
   "outputs": [],
   "source": [
    "from sklearn.metrics import mean_squared_error as mse\n",
    "\n",
    "for i in range(len(models)):\n",
    "\n",
    "    train_mse=mse(models[i].predict(X_train), y_train) #MSE\n",
    "    test_mse=mse(preds[i], y_test)\n",
    "\n",
    "    print ('Model: {}, train MSE: {} -- test MSE: {}'.format(model_names[i], train_mse, test_mse))"
   ]
  },
  {
   "cell_type": "markdown",
   "metadata": {},
   "source": [
    "- **RMSE.**"
   ]
  },
  {
   "cell_type": "code",
   "execution_count": null,
   "metadata": {},
   "outputs": [],
   "source": [
    "for i in range(len(models)):\n",
    "\n",
    "    train_rmse=mse(models[i].predict(X_train), y_train)**0.5 #RMSE\n",
    "    test_rmse=mse(preds[i], y_test)**0.5\n",
    "\n",
    "    print ('Model: {}, train RMSE: {} -- test RMSE: {}'.format(model_names[i], train_rmse, test_rmse))"
   ]
  },
  {
   "cell_type": "markdown",
   "metadata": {},
   "source": [
    "- MAE."
   ]
  },
  {
   "cell_type": "code",
   "execution_count": null,
   "metadata": {},
   "outputs": [],
   "source": [
    "from sklearn.metrics import mean_absolute_error as mae\n",
    "for i in range(len(models)):\n",
    "    train_mae=mae(models[i].predict(X_train), y_train) #MAE\n",
    "    test_mae=mae(preds[i], y_test)\n",
    "\n",
    "    print ('Model: {}, train MAE: {} -- test MAE: {}'.format(model_names[i], train_mae, test_mae))"
   ]
  },
  {
   "cell_type": "markdown",
   "metadata": {},
   "source": [
    "### Can you try to improve the model ?"
   ]
  },
  {
   "cell_type": "markdown",
   "metadata": {},
   "source": [
    "I.e. you can try by removing columns that you feel are not predictive. Or making transformations to some columns to make them closer to a normal distribution, or..\n",
    "\n",
    "    - Choosing a different way to fill null values\n",
    "    - Working with a categorical variable to reduce the number of categories\n",
    "    - Different data transformation\n",
    "    - A different method to remove outliers\n",
    "    - Choosing different scaling method"
   ]
  },
  {
   "cell_type": "markdown",
   "metadata": {},
   "source": [
    "<font color='magenta'>\n",
    "Your code goes here:\n",
    "    \n",
    "</font>"
   ]
  },
  {
   "cell_type": "code",
   "execution_count": null,
   "metadata": {},
   "outputs": [],
   "source": []
  },
  {
   "cell_type": "code",
   "execution_count": null,
   "metadata": {},
   "outputs": [],
   "source": []
  },
  {
   "cell_type": "code",
   "execution_count": null,
   "metadata": {},
   "outputs": [],
   "source": []
  },
  {
   "cell_type": "code",
   "execution_count": null,
   "metadata": {},
   "outputs": [],
   "source": []
  },
  {
   "cell_type": "markdown",
   "metadata": {},
   "source": [
    "### 07 - Reporting\n",
    "\n",
    "- Present results.\n",
    "\n",
    "**Data Level**\n",
    "\n",
    "- Drop Nan values because they are, in fact, duplicates.\n",
    "- Do not drop outliers because they are just a few.\n",
    "\n",
    "**Problem Level**\n",
    "\n",
    "- Total claim amount has a great variance.\n",
    "- We can predict the total claim amount with a 25% of error, even when R2 is high.\n",
    "- We need to determinate which are the significative variables."
   ]
  },
  {
   "cell_type": "markdown",
   "metadata": {},
   "source": [
    "### Additional Resources\n",
    "\n",
    "- [Best practices for PowerPoint presentations](https://alum.mit.edu/best-practices-powerpoint-presentations)\n",
    "- [More tips on PowerPoint formatting](https://www.workfront.com/blog/10-tips-for-designing-presentations-that-dont-suck-part-1)"
   ]
  },
  {
   "cell_type": "code",
   "execution_count": null,
   "metadata": {},
   "outputs": [],
   "source": []
  }
 ],
 "metadata": {
  "kernelspec": {
   "display_name": "Python 3 (ipykernel)",
   "language": "python",
   "name": "python3"
  },
  "language_info": {
   "codemirror_mode": {
    "name": "ipython",
    "version": 3
   },
   "file_extension": ".py",
   "mimetype": "text/x-python",
   "name": "python",
   "nbconvert_exporter": "python",
   "pygments_lexer": "ipython3",
   "version": "3.9.12"
  }
 },
 "nbformat": 4,
 "nbformat_minor": 4
}
